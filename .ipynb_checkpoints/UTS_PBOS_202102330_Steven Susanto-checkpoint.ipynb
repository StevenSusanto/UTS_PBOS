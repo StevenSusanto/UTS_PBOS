{
 "cells": [
  {
   "cell_type": "code",
   "execution_count": 1,
   "id": "3c00c1f6",
   "metadata": {},
   "outputs": [
    {
     "name": "stdout",
     "output_type": "stream",
     "text": [
      "=============================================================\n",
      "======================CURRICULUM VITAE=======================\n",
      "=============================================================\n",
      " \n",
      "Data Pribadi\n",
      "\n",
      "   Nama              :  Steven Susanto\n",
      "   Tempat/Tgl Lahir  :  Pontianak, 21-04-2002\n",
      "   Jenis Kelamin     :  Laki-Laki\n",
      "   Agama             :  Katolik\n",
      "   Tinggi Badan      :  170 cm\n",
      "   Berat Badan       :  61 Kg\n",
      "   Alamat            :  Gang Bangau\n",
      "       RT/RW         :  005/005\n",
      "       Kel/Desa      :  Mariana\n",
      "       Kecamatan     :  Pontianak Kota\n",
      "   Handphone         :  089521366928\n",
      "   Status Perkawinan :  Belum Kawin\n",
      "   E-mail            :  steven8******3@gmail.com\n",
      " \n",
      "Data Pendidikan\n",
      "\n",
      " \n",
      "   Pendidikan Formal\n",
      "\n",
      "   SD                :  SD Suster Pontianak\n",
      "   SMP               :  SMP Bruder Pontianak\n",
      "   SMA               :  SMA Santo Paulus Pontianak\n",
      "   Perguruan Tinggi  :  STMIK Pontianak\n",
      " \n",
      "   Pendidikan Non-Formal\n",
      "\n",
      "   1. Universal English Course\n",
      "   2. Ganesha Operation\n",
      " \n",
      "Ekstra Kurikuler\n",
      "\n",
      "   1. Koor SMA Santo Paulus\n",
      "   2. Band SMA Santo Paulus\n",
      " \n",
      "Penghargaan\n",
      "\n",
      "   1. Runner Up Basketball Competition Petrus Cup IV 2013\n",
      "   2. Juara 1 Fashion Road Pontianak Oktober Festival 2017\n",
      "   3. Juara 1 Fashion Road HUT Kota Pontianak ke-247 2018\n",
      " \n",
      "=============================================================\n",
      "=============================================================\n",
      "=============================================================\n",
      "        \n"
     ]
    }
   ],
   "source": [
    "data_pr = \"\"\"\n",
    "Data Pribadi\n",
    "\"\"\"\n",
    "nama = \"Steven Susanto\"\n",
    "ttl = \"Pontianak, 21-04-2002\"\n",
    "jk = \"Laki-Laki\"\n",
    "agama = \"Katolik\"\n",
    "tb = \"170 cm\"\n",
    "bb = \"61 Kg\"\n",
    "alamat = \"Gang Bangau\"\n",
    "rt_rw = \"005/005\"\n",
    "kel_desa = \"Mariana\"\n",
    "kecamatan = \"Pontianak Kota\"\n",
    "hp = \"089521366928\"\n",
    "menikah = False\n",
    "e_mail = \"steven8******3@gmail.com\"\n",
    "\n",
    "data_pe = \"\"\"\n",
    "Data Pendidikan\n",
    "\"\"\"\n",
    "formal = \"\"\"\n",
    "   Pendidikan Formal\n",
    "\"\"\"\n",
    "sd = \"SD Suster Pontianak\"\n",
    "smp = \"SMP Bruder Pontianak\"\n",
    "sma = \"SMA Santo Paulus Pontianak\"\n",
    "pt = \"STMIK Pontianak\"\n",
    "\n",
    "non_f = \"\"\"\n",
    "   Pendidikan Non-Formal\n",
    "\"\"\"\n",
    "k_english = \"1. Universal English Course\"\n",
    "b_ganesha = \"2. Ganesha Operation\"\n",
    "\n",
    "ekskul = \"\"\"\n",
    "Ekstra Kurikuler\n",
    "\"\"\"\n",
    "ksp = \"1. Koor SMA Santo Paulus\"\n",
    "band = \"2. Band SMA Santo Paulus\"\n",
    "\n",
    "prestasi = \"\"\"\n",
    "Penghargaan\n",
    "\"\"\"\n",
    "p_cup = \"1. Runner Up Basketball Competition Petrus Cup IV 2013\"\n",
    "fr_1 = \"2. Juara 1 Fashion Road Pontianak Oktober Festival 2017\"\n",
    "fr_2 = \"3. Juara 1 Fashion Road HUT Kota Pontianak ke-247 2018\"\n",
    "\n",
    "footer=\"\"\"\n",
    "=============================================================\n",
    "=============================================================\n",
    "=============================================================\n",
    "        \"\"\"\n",
    "#cetak\n",
    "print(\"=============================================================\")\n",
    "print(\"======================CURRICULUM VITAE=======================\")\n",
    "print(\"=============================================================\")\n",
    "print(\"\", data_pr)\n",
    "print(\"   Nama              : \", nama)\n",
    "print(\"   Tempat/Tgl Lahir  : \", ttl)\n",
    "print(\"   Jenis Kelamin     : \", jk)\n",
    "print(\"   Agama             : \", agama)\n",
    "print(\"   Tinggi Badan      : \", tb)\n",
    "print(\"   Berat Badan       : \", bb)\n",
    "print(\"   Alamat            : \", alamat)\n",
    "print(\"       RT/RW         : \", rt_rw)\n",
    "print(\"       Kel/Desa      : \", kel_desa)\n",
    "print(\"       Kecamatan     : \", kecamatan)\n",
    "print(\"   Handphone         : \", hp)\n",
    "if(menikah) :\n",
    "    print(\"   Status Perkawinan :  Kawin\")\n",
    "else: \n",
    "    print(\"   Status Perkawinan :  Belum Kawin\")\n",
    "print(\"   E-mail            : \", e_mail)\n",
    "\n",
    "print(\"\", data_pe)\n",
    "print(\"\", formal)\n",
    "print(\"   SD                : \", sd)\n",
    "print(\"   SMP               : \", smp)\n",
    "print(\"   SMA               : \", sma)\n",
    "print(\"   Perguruan Tinggi  : \", pt)\n",
    "print(\"\", non_f)\n",
    "print(\"  \", k_english)\n",
    "print(\"  \", b_ganesha)\n",
    "\n",
    "print(\"\", ekskul)\n",
    "print(\"  \", ksp)\n",
    "print(\"  \", band)\n",
    "\n",
    "print(\"\", prestasi)\n",
    "print(\"  \", p_cup)\n",
    "print(\"  \", fr_1)\n",
    "print(\"  \", fr_2)\n",
    "\n",
    "print(\"\", footer)"
   ]
  },
  {
   "cell_type": "code",
   "execution_count": 4,
   "id": "456ce651",
   "metadata": {},
   "outputs": [
    {
     "name": "stdout",
     "output_type": "stream",
     "text": [
      "Menghitung Luas Persegi Panjang\n",
      "Masukan Panjang: 1\n",
      "Masukan Lebar: 2\n",
      "Luas Persegi Panjang : 2.0\n"
     ]
    }
   ],
   "source": [
    "print(\"Program Menghitung Luas Persegi Panjang\")\n",
    "\n",
    "panjang = float(input(\"Masukan Panjang: \"))\n",
    "lebar = float(input(\"Masukan Lebar: \"))\n",
    "luas = panjang*lebar\n",
    "\n",
    "print(\"Luas Persegi Panjang :\",luas)"
   ]
  },
  {
   "cell_type": "code",
   "execution_count": 11,
   "id": "1ef58ba3",
   "metadata": {},
   "outputs": [
    {
     "name": "stdout",
     "output_type": "stream",
     "text": [
      "Konversi Suhu Celcius\n",
      "Input suhu Celcius : 2\n",
      "Hasil konversi ke Reamur :  1.6\n",
      "Hasil konversi ke Fahrenheit :  35.6\n"
     ]
    }
   ],
   "source": [
    "print(\"Program Konversi Suhu Celcius\")\n",
    "\n",
    "Celcius = float(input(\"Input suhu Celcius : \"))\n",
    "Reamur = (4/5)*Celcius\n",
    "Fahrenheit = (9/5)*Celcius + 32;\n",
    "\n",
    "print (\"Hasil konversi ke Reamur : \",Reamur)\n",
    "print (\"Hasil konversi ke Fahrenheit : \",Fahrenheit)"
   ]
  },
  {
   "cell_type": "code",
   "execution_count": 12,
   "id": "caa3b305",
   "metadata": {},
   "outputs": [
    {
     "name": "stdout",
     "output_type": "stream",
     "text": [
      "Konversi Suhu Reamur\n",
      "Input suhu Reamur : 3\n",
      "Hasil konversi ke Celcius :  3.75\n",
      "Hasil konversi ke Fahrenheit :  38.75\n"
     ]
    }
   ],
   "source": [
    "print(\"Program Konversi Suhu Reamur\")\n",
    "\n",
    "Reamur = float(input(\"Input suhu Reamur : \"))\n",
    "Celcius = (5/4) * Reamur\n",
    "Fahrenheit = (9/4 * Reamur) + 32\n",
    "\n",
    "print (\"Hasil konversi ke Celcius : \",Celcius)\n",
    "print (\"Hasil konversi ke Fahrenheit : \",Fahrenheit)\n"
   ]
  },
  {
   "cell_type": "code",
   "execution_count": 13,
   "id": "e6e65580",
   "metadata": {},
   "outputs": [
    {
     "name": "stdout",
     "output_type": "stream",
     "text": [
      "Konversi Suhu Fahrenheit\n",
      "Input suhu Fahrenheit : 4\n",
      "Hasil konversi ke Reamur :  -12.444444444444443\n",
      "Hasil konversi ke Celcius :  -15.555555555555555\n"
     ]
    }
   ],
   "source": [
    "print(\"Program Konversi Suhu Fahrenheit\")\n",
    "\n",
    "Fahrenheit = float(input(\"Input suhu Fahrenheit : \"))\n",
    "Reamur = 4/9 * (Fahrenheit - 32)\n",
    "Celcius = (Fahrenheit - 32) * 5/9\n",
    "\n",
    "print (\"Hasil konversi ke Reamur : \",Reamur)\n",
    "print (\"Hasil konversi ke Celcius : \",Celcius)\n"
   ]
  },
  {
   "cell_type": "code",
   "execution_count": 16,
   "id": "489f8342",
   "metadata": {},
   "outputs": [
    {
     "name": "stdout",
     "output_type": "stream",
     "text": [
      "Konversi Waktu\n",
      "Input detik : 20\n",
      "Hasil Konversi Detik ke Hari   :  28800.0\n",
      "Hasil Konversi Detik ke Jam    :  1200.0\n",
      "Hasil Konversi Detik ke Menit  :  20.0\n"
     ]
    }
   ],
   "source": [
    "print(\"Program Konversi Waktu\")\n",
    "\n",
    "detik = float(input(\"Input detik : \"))\n",
    "menit = detik * 1\n",
    "jam = menit * 60 \n",
    "hari = jam * 24 \n",
    "\n",
    "print (\"Hasil Konversi Detik ke Hari   : \",hari)\n",
    "print (\"Hasil Konversi Detik ke Jam    : \",jam)\n",
    "print (\"Hasil Konversi Detik ke Menit  : \",menit)"
   ]
  },
  {
   "cell_type": "code",
   "execution_count": 17,
   "id": "df87a625",
   "metadata": {},
   "outputs": [
    {
     "name": "stdout",
     "output_type": "stream",
     "text": [
      "Program Menghitung Luas Lingkaran\n",
      "Input jari-jari lingkaran : 24\n",
      "Luas Lingkaran :  1808.64\n"
     ]
    }
   ],
   "source": [
    "print(\"Program Menghitung Luas Lingkaran\")\n",
    "\n",
    "r = float(input(\"Input jari-jari lingkaran : \"))\n",
    "phi  = 3.14\n",
    "L = phi * (r * r)\n",
    "\n",
    "print (\"Luas Lingkaran : \",L)"
   ]
  },
  {
   "cell_type": "code",
   "execution_count": null,
   "id": "cae05328",
   "metadata": {},
   "outputs": [],
   "source": []
  }
 ],
 "metadata": {
  "kernelspec": {
   "display_name": "Python 3",
   "language": "python",
   "name": "python3"
  },
  "language_info": {
   "codemirror_mode": {
    "name": "ipython",
    "version": 3
   },
   "file_extension": ".py",
   "mimetype": "text/x-python",
   "name": "python",
   "nbconvert_exporter": "python",
   "pygments_lexer": "ipython3",
   "version": "3.8.8"
  }
 },
 "nbformat": 4,
 "nbformat_minor": 5
}
